{
  "nbformat": 4,
  "nbformat_minor": 0,
  "metadata": {
    "colab": {
      "provenance": [],
      "authorship_tag": "ABX9TyM617zHKpDBF+7T9UiExpL5",
      "include_colab_link": true
    },
    "kernelspec": {
      "name": "python3",
      "display_name": "Python 3"
    },
    "language_info": {
      "name": "python"
    }
  },
  "cells": [
    {
      "cell_type": "markdown",
      "metadata": {
        "id": "view-in-github",
        "colab_type": "text"
      },
      "source": [
        "<a href=\"https://colab.research.google.com/github/Bunencio/IBM_Course/blob/main/DataScienceEcosystem.ipynb\" target=\"_parent\"><img src=\"https://colab.research.google.com/assets/colab-badge.svg\" alt=\"Open In Colab\"/></a>"
      ]
    },
    {
      "cell_type": "markdown",
      "source": [
        "*Exercise 2 - Create a markdown cell with the title of the notebook. (1 pt)*\n",
        "# Data Science Tools and Ecosystem\n"
      ],
      "metadata": {
        "id": "OrpAbNiXRmbl"
      }
    },
    {
      "cell_type": "markdown",
      "source": [
        "*Exercise 3 - Create a markdown cell for an introduction. (1 pt)*.\n",
        "\n",
        "In this notebook, Data Science Tools and Ecosystem are summarized."
      ],
      "metadata": {
        "id": "EHHi7YueRwHx"
      }
    },
    {
      "cell_type": "markdown",
      "source": [
        "*Exercise 4 - Create a markdown cell to list data science languages. (3 pts)*\n",
        "\n",
        "\n",
        "Some of the popular languages that Data Scientists use are:\n",
        "\n",
        "- R\n",
        "- Python\n",
        "- C++"
      ],
      "metadata": {
        "id": "weM-mmfSR1XU"
      }
    },
    {
      "cell_type": "markdown",
      "source": [
        "*Exercise 5 - Create a markdown cell to list data science libraries. (3 pts)*\n",
        "\n",
        "Some of the commonly used libraries used by Data Scientists include:\n",
        "1. NumPy - For numerical computing and array operations\n",
        "2. Pandas - For data manipulation and analysis\n",
        "3. Matplotlib - For data visualization and plotting\n",
        "4. Scikit-learn - For machine learning algorithms"
      ],
      "metadata": {
        "id": "Ii9uNWmNSLgV"
      }
    },
    {
      "cell_type": "markdown",
      "source": [
        "*Exercise 6 - Create a markdown cell with a table of Data Science tools. (3 pts)*\n",
        "\n",
        "| Data Science Tools |\n",
        "|-------------------|\n",
        "| Jupyter Notebook  |\n",
        "| RStudio          |\n",
        "| VS Code          |"
      ],
      "metadata": {
        "id": "kCwBmYpTSQLY"
      }
    },
    {
      "cell_type": "markdown",
      "source": [
        "*Exercise 7 - Create a markdown cell introducing arithmetic expression examples. (1 pt)*\n",
        "\n",
        "### Below are a few examples of evaluating arithmetic expressions in Python"
      ],
      "metadata": {
        "id": "AKobbP8nSWAa"
      }
    },
    {
      "cell_type": "markdown",
      "source": [
        "*Exercise 8 - Create a code cell to multiply and add numbers. (2 pts)*"
      ],
      "metadata": {
        "id": "Kl9O7G74XU6j"
      }
    },
    {
      "cell_type": "code",
      "source": [
        "# This is a simple arithmetic expression to multiply then add integers\n",
        "(3 * 4) + 5"
      ],
      "metadata": {
        "colab": {
          "base_uri": "https://localhost:8080/"
        },
        "id": "eOv_WLXkSZwy",
        "outputId": "01538a3c-486c-4e44-ef09-1c827b8c08bc"
      },
      "execution_count": null,
      "outputs": [
        {
          "output_type": "execute_result",
          "data": {
            "text/plain": [
              "17"
            ]
          },
          "metadata": {},
          "execution_count": 1
        }
      ]
    },
    {
      "cell_type": "markdown",
      "source": [
        "*Exercise 9 - Create a code cell to convert minutes to hours. (2 pts)*"
      ],
      "metadata": {
        "id": "lNhmorfqXXnq"
      }
    },
    {
      "cell_type": "code",
      "source": [
        "# This will convert 200 minutes to hours by dividing by 60\n",
        "200 / 60"
      ],
      "metadata": {
        "colab": {
          "base_uri": "https://localhost:8080/"
        },
        "id": "OWuPJgUQSij3",
        "outputId": "b8da6b6f-5a31-41a7-f2c2-3e05b9be1c89"
      },
      "execution_count": null,
      "outputs": [
        {
          "output_type": "execute_result",
          "data": {
            "text/plain": [
              "3.3333333333333335"
            ]
          },
          "metadata": {},
          "execution_count": 2
        }
      ]
    },
    {
      "cell_type": "markdown",
      "source": [
        "*Exercise 10 -Insert a markdown cell to list Objectives. (3 pts)*\n",
        "\n",
        "**Objectives:**\n",
        "- List popular languages for Data Science\n",
        "- Demonstrate basic arithmetic operations in Python\n",
        "- Show how to convert units using Python\n",
        "- Introduce common Data Science tools and libraries"
      ],
      "metadata": {
        "id": "dMZnFl0zS3iF"
      }
    },
    {
      "cell_type": "markdown",
      "source": [
        "*Exercise 11 - Create a markdown cell to indicate the Author’s name. (2 pts)*\n",
        "\n",
        "## Author\n",
        "Erick Gerardo Calderon Reyes"
      ],
      "metadata": {
        "id": "C7KlKTGNS-NU"
      }
    }
  ]
}